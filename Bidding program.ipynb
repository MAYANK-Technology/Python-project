{
 "cells": [
  {
   "cell_type": "code",
   "execution_count": null,
   "metadata": {},
   "outputs": [],
   "source": [
    "import os\n",
    "\n",
    "# Dictionary to store the bids\n",
    "bid_record = {}\n",
    "bidding_finished = False\n",
    "\n",
    "# Function to determine the highest bidder\n",
    "def highest_bidder():\n",
    "    largest_bid = 0\n",
    "    winner = ''\n",
    "    for bidder in bid_record:\n",
    "        bid_amount = bid_record[bidder]\n",
    "        if bid_amount > largest_bid:\n",
    "            largest_bid = bid_amount\n",
    "            winner = bidder\n",
    "    print(f\"The winner is {winner} with the highest bid of ${largest_bid}.\")\n",
    "\n",
    "# Function to clear the console\n",
    "def clear_console():\n",
    "    os.system('cls' if os.name == 'nt' else 'clear')\n",
    "\n",
    "# Loop to continue bidding until finished\n",
    "while not bidding_finished:\n",
    "    name = input(\"What is your name? : \")\n",
    "    price = int(input(\"What's your bid? : \"))\n",
    "    bid_record[name] = price\n",
    "    should_continue = input(\"Are there any other bidders? Type 'yes' or 'no'.\\n\")\n",
    "    if should_continue.lower() == 'no':\n",
    "        bidding_finished = True\n",
    "        highest_bidder()\n",
    "    elif should_continue.lower() == 'yes':\n",
    "        clear_console()\n",
    "       \n",
    "                \n",
    "\n",
    "            \n",
    "            \n",
    "    \n"
   ]
  },
  {
   "cell_type": "code",
   "execution_count": null,
   "metadata": {},
   "outputs": [],
   "source": []
  },
  {
   "cell_type": "code",
   "execution_count": null,
   "metadata": {},
   "outputs": [],
   "source": []
  }
 ],
 "metadata": {
  "kernelspec": {
   "display_name": "Python 3",
   "language": "python",
   "name": "python3"
  },
  "language_info": {
   "codemirror_mode": {
    "name": "ipython",
    "version": 3
   },
   "file_extension": ".py",
   "mimetype": "text/x-python",
   "name": "python",
   "nbconvert_exporter": "python",
   "pygments_lexer": "ipython3",
   "version": "3.8.5"
  }
 },
 "nbformat": 4,
 "nbformat_minor": 4
}
