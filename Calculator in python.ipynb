{
  "cells": [
    {
      "cell_type": "code",
      "source": [
        "# Define the basic arithmetic operations as functions\n",
        "def add(x, y):\n",
        "    return x + y\n",
        "\n",
        "def subtract(x, y):\n",
        "    return x - y\n",
        "\n",
        "def multiply(x, y):\n",
        "    return x * y\n",
        "\n",
        "def divide(x, y):\n",
        "    # Added check to avoid division by zero\n",
        "    if y != 0:\n",
        "        return x / y\n",
        "    else:\n",
        "        return \"Error! Division by zero.\"\n",
        "\n",
        "# Dictionary to map symbols to the corresponding operation functions\n",
        "operations = {\n",
        "    \"+\": add,\n",
        "    \"-\": subtract,\n",
        "    \"*\": multiply,\n",
        "    \"/\": divide\n",
        "}\n",
        "\n",
        "# Main calculator function\n",
        "def calculator():\n",
        "    # Get the first number from the user and convert it to float\n",
        "    num1 = float(input(\"Input the first number: \"))\n",
        "\n",
        "    # Print available operations\n",
        "    for symbol in operations:\n",
        "        print(symbol)\n",
        "\n",
        "    # Get the operation symbol from the user\n",
        "    operation_symbol = input(\"Pick an operation from the line above: \")\n",
        "\n",
        "    # Get the second number from the user and convert it to float\n",
        "    num2 = float(input(\"Input the second number: \"))\n",
        "\n",
        "    # Get the function corresponding to the operation symbol\n",
        "    calculation_function = operations[operation_symbol]\n",
        "\n",
        "    # Perform the calculation\n",
        "    answer = calculation_function(num1, num2)\n",
        "\n",
        "    # Print the result of the first calculation\n",
        "    print(f\"{num1} {operation_symbol} {num2} = {answer}\")\n",
        "\n",
        "    # Loop to allow the user to continue calculating with the result\n",
        "    while True:\n",
        "        # Ask the user if they want to perform another operation with the result\n",
        "        continue_calculation = input(\"Do you want to perform another operation with the result? (yes/no): \").lower()\n",
        "\n",
        "        if continue_calculation == 'yes':\n",
        "            # Get the next operation symbol\n",
        "            operation_symbol = input(\"Pick another operation: \")\n",
        "\n",
        "            # Get the next number from the user and convert it to float\n",
        "            num3 = float(input(\"Input another number: \"))\n",
        "\n",
        "            # Get the function corresponding to the new operation symbol\n",
        "            calculation_function = operations[operation_symbol]\n",
        "\n",
        "            # Perform the calculation with the current answer\n",
        "            new_answer = calculation_function(answer, num3)\n",
        "\n",
        "            # Print the result of the new calculation\n",
        "            print(f\"{answer} {operation_symbol} {num3} = {new_answer}\")\n",
        "\n",
        "            # Update the answer for further calculations\n",
        "            answer = new_answer\n",
        "        else:\n",
        "            break\n",
        "\n",
        "# Run the calculator\n",
        "calculator()\n"
      ],
      "metadata": {
        "colab": {
          "base_uri": "https://localhost:8080/"
        },
        "id": "IKeu-BCSmZbl",
        "outputId": "fdb1b038-0c0a-4108-d422-f5262cd7cb66"
      },
      "execution_count": null,
      "outputs": [
        {
          "output_type": "stream",
          "name": "stdout",
          "text": [
            "Input the first number: 10\n",
            "+\n",
            "-\n",
            "*\n",
            "/\n",
            "Pick an operation from the line above: +\n",
            "Input the second number: 10\n",
            "10.0 + 10.0 = 20.0\n",
            "Do you want to perform another operation with the result? (yes/no): yes\n",
            "Pick another operation: +\n",
            "Input another number: 10\n",
            "20.0 + 10.0 = 30.0\n"
          ]
        }
      ]
    },
    {
      "cell_type": "code",
      "source": [],
      "metadata": {
        "id": "9RO__MkOnuS6"
      },
      "execution_count": null,
      "outputs": []
    }
  ],
  "metadata": {
    "colab": {
      "provenance": []
    },
    "kernelspec": {
      "display_name": "Python 3",
      "name": "python3"
    },
    "language_info": {
      "name": "python"
    }
  },
  "nbformat": 4,
  "nbformat_minor": 0
}