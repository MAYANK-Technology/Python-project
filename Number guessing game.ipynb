{
 "cells": [
  {
   "cell_type": "code",
   "execution_count": null,
   "metadata": {},
   "outputs": [
    {
     "name": "stdout",
     "output_type": "stream",
     "text": [
      "Welcome to the guessing game!\n",
      "I'm thinking of a number between 1 and 100.\n",
      "Psst... the correct answer is 39\n",
      "Choose a difficulty. Type 'easy' or 'hard': 45\n",
      "You have 5 attempts left.\n"
     ]
    }
   ],
   "source": [
    "from random import randint\n",
    "\n",
    "easy_level_turns = 10\n",
    "hard_level_turns = 5\n",
    "\n",
    "\n",
    "def check_answer(guess, answer, turns):\n",
    "  \"\"\"Checks the guess against the answer and returns the remaining turns.\"\"\"\n",
    "  if guess > answer:\n",
    "    print(\"Too high.\")\n",
    "    return turns - 1\n",
    "  elif guess < answer:\n",
    "    print(\"Too low.\")\n",
    "    return turns - 1\n",
    "  else:\n",
    "    print(f\"You got it! The answer was {answer}.\")\n",
    "\n",
    "\n",
    "def set_difficulty():\n",
    "  \"\"\"Sets the difficulty level and returns the number of turns.\"\"\"\n",
    "  level = input(\"Choose a difficulty. Type 'easy' or 'hard': \")\n",
    "  if level == 'easy':\n",
    "    return easy_level_turns\n",
    "  else:\n",
    "    return hard_level_turns\n",
    "\n",
    "\n",
    "def game():\n",
    "  \"\"\"Main function to run the guessing game.\"\"\"\n",
    "  print(\"Welcome to the guessing game!\")\n",
    "  print(\"I'm thinking of a number between 1 and 100.\")\n",
    "  answer = randint(1, 100)\n",
    "\n",
    "  print(f\"Psst... the correct answer is {answer}\")\n",
    "\n",
    "  turns = set_difficulty()\n",
    "\n",
    "  guess = 0\n",
    "  while guess != answer and turns > 0:\n",
    "    print(f\"You have {turns} attempts left.\")\n",
    "    guess = int(input(\"Make a guess: \"))\n",
    "    turns = check_answer(guess, answer, turns)\n",
    "    if turns == 0:\n",
    "      print(\"You've run out of guesses. You lose.\")\n",
    "      return\n",
    "\n",
    "\n",
    "game()\n"
   ]
  },
  {
   "cell_type": "code",
   "execution_count": null,
   "metadata": {},
   "outputs": [],
   "source": []
  }
 ],
 "metadata": {
  "kernelspec": {
   "display_name": "Python 3",
   "language": "python",
   "name": "python3"
  },
  "language_info": {
   "codemirror_mode": {
    "name": "ipython",
    "version": 3
   },
   "file_extension": ".py",
   "mimetype": "text/x-python",
   "name": "python",
   "nbconvert_exporter": "python",
   "pygments_lexer": "ipython3",
   "version": "3.8.5"
  }
 },
 "nbformat": 4,
 "nbformat_minor": 4
}
